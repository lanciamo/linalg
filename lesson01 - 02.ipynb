{
 "cells": [
  {
   "cell_type": "code",
   "execution_count": 1,
   "metadata": {},
   "outputs": [],
   "source": [
    "import numpy as np"
   ]
  },
  {
   "cell_type": "markdown",
   "metadata": {},
   "source": [
    "## Практическое задание\n",
    "__1.1.__ Исследовать на линейную зависимость:\n",
    "$$f_{1}(x)=e^{x}, f_{2}(x)=1, f_{3}(x)=x+1, f_{4}(x)=x-e^{x}.$$"
   ]
  },
  {
   "cell_type": "code",
   "execution_count": null,
   "metadata": {},
   "outputs": [],
   "source": [
    "'''\n",
    "заметим, что \n",
    "f4 = f3 - f2 - f1\n",
    "то есть один вектор является линенйной комбинацией трех других\n",
    "вектора - линейно зависимы\n",
    "'''"
   ]
  },
  {
   "cell_type": "markdown",
   "metadata": {},
   "source": [
    "__1.2.__ Исследовать на линейную зависимость:\n",
    "$$f_{1}(x)=2, f_{2}(x)=x, f_{3}(x)=x^{2}, f_{4}(x)=(x+1)^{2}.$$"
   ]
  },
  {
   "cell_type": "code",
   "execution_count": null,
   "metadata": {},
   "outputs": [],
   "source": [
    "''' \n",
    "f4 = xˆ2 + 2x + 1,\n",
    "соответсвенно f4 = f3 + 2f2 + 0.5f1\n",
    "то есть один вектор является линенйной комбинацией трех других\n",
    "вектора - линейно зависимы\n",
    "'''"
   ]
  },
  {
   "cell_type": "markdown",
   "metadata": {},
   "source": [
    "__1.3.__ Найти координаты вектора $x = (2, 3, 5)\\in \\mathbb{R}^{3}$ в базисе $b_{1}=(0, 0, 10)$, $b_{2}=(2, 0, 0)$, $b_{3}=(0, 1, 0)$."
   ]
  },
  {
   "cell_type": "code",
   "execution_count": null,
   "metadata": {},
   "outputs": [],
   "source": [
    "''' \n",
    "x = 2*b1 + 3*b2 + 5b3\n",
    "x = (0,0,20), (6,0,0), (0,5,0)\n",
    "x = (6,5,20)\n",
    "'''"
   ]
  },
  {
   "cell_type": "markdown",
   "metadata": {},
   "source": [
    "__1.4.__ Найти координаты вектора $3x^{2}-2x+2\\in\\mathbb{R}^{3}[x]$:\n",
    "\n",
    "   а) в базисе $1$, $x$, $x^{2}$;"
   ]
  },
  {
   "cell_type": "code",
   "execution_count": null,
   "metadata": {},
   "outputs": [],
   "source": [
    "# (3, -2x, 2x**2)"
   ]
  },
  {
   "cell_type": "markdown",
   "metadata": {},
   "source": [
    "   б) в базисе $x^{2}$, $x-1$, $1$."
   ]
  },
  {
   "cell_type": "code",
   "execution_count": null,
   "metadata": {},
   "outputs": [],
   "source": [
    "# (3x**2, -2x+2, 2)"
   ]
  },
  {
   "cell_type": "markdown",
   "metadata": {},
   "source": [
    "__1.5.__ Установить, является ли линейным подпространством:\n",
    "\n",
    "а) совокупность всех векторов трехмерного пространства, у которых по крайней мере одна из первых двух координат равна нулю;\n",
    "    "
   ]
  },
  {
   "cell_type": "markdown",
   "metadata": {},
   "source": [
    "> Copy&Paste из методички. Проведя проверку по приведенному утверждению, мы увидим, что \n",
    "\n",
    "$$(0, a, b)+(0, c, d) = (0, a+c, b+d),$$ $$\\alpha\\cdot (0, a, b) = (0, \\alpha a, \\alpha b).$$\n",
    "\n",
    "> то есть являются"
   ]
  },
  {
   "cell_type": "markdown",
   "metadata": {},
   "source": [
    "б) все векторы, являющиеся линейными комбинациями данных векторов $\\{u_{1}, u_{2}, ..., u_{n}\\}$."
   ]
  },
  {
   "cell_type": "code",
   "execution_count": null,
   "metadata": {},
   "outputs": [],
   "source": [
    "# если все они являются линейными комбинациями, соответственно являются зависимыми.\n",
    "# Соответственно находятся в одном пространстве"
   ]
  },
  {
   "cell_type": "markdown",
   "metadata": {},
   "source": [
    "__2.1.__ Найти скалярное произведение векторов $x, y \\in \\mathbb{R}$:<br>\n",
    "а) $x=(0,-3, 6),~y=(-4, 7, 9);$<br>"
   ]
  },
  {
   "cell_type": "code",
   "execution_count": 3,
   "metadata": {},
   "outputs": [
    {
     "data": {
      "text/plain": [
       "33"
      ]
     },
     "execution_count": 3,
     "metadata": {},
     "output_type": "execute_result"
    }
   ],
   "source": [
    "xy = 0*(-4)+(-3)*7+6*9\n",
    "xy"
   ]
  },
  {
   "cell_type": "markdown",
   "metadata": {},
   "source": [
    "б) $x=(7, -4, 0, 1),~y=(-3, 1, 11, 2).$"
   ]
  },
  {
   "cell_type": "code",
   "execution_count": 5,
   "metadata": {},
   "outputs": [
    {
     "data": {
      "text/plain": [
       "-23"
      ]
     },
     "execution_count": 5,
     "metadata": {},
     "output_type": "execute_result"
    }
   ],
   "source": [
    "xy = 7*(-3)+(-4)*1+0*11+1*2\n",
    "xy"
   ]
  },
  {
   "cell_type": "markdown",
   "metadata": {},
   "source": [
    "__2.2.__ Найти нормы векторов $(4, 2, 4)$ и $(12, 3, 4)$ и угол между ними."
   ]
  },
  {
   "cell_type": "code",
   "execution_count": 21,
   "metadata": {},
   "outputs": [
    {
     "name": "stdout",
     "output_type": "stream",
     "text": [
      "Норма вектора a: 6.00, 6.00, 6.00\n",
      "Норма вектора b: 13.00, 13.00, 13.00\n",
      "Косинус угла между a и b: 0.90\n",
      "Угол между a и b: 0.46 рад.\n"
     ]
    }
   ],
   "source": [
    "a = np.array([4,2,4])\n",
    "b = np.array([12,3,4])\n",
    "norm_a = np.sqrt(4*4+2*2+4*4)\n",
    "print(f'Норма вектора a: {norm_a:.2f}, {np.sqrt(np.dot(a, a)):.2f}, {np.linalg.norm(a):.2f}')\n",
    "norm_b = np.sqrt(12*12+3*3+4*4)\n",
    "print(f'Норма вектора b: {norm_b:.2f}, {np.sqrt(np.dot(b, b)):.2f}, {np.linalg.norm(b):.2f}')\n",
    "cos_phi = np.dot(a, b) / norm_a / norm_b\n",
    "print(f'Косинус угла между a и b: {cos_phi:.2f}')\n",
    "print(f'Угол между a и b: {np.arccos(cos_phi):.2f} рад.')"
   ]
  },
  {
   "cell_type": "markdown",
   "metadata": {},
   "source": [
    "__2.3.__ Будет ли линейное пространство евклидовым, если за скалярное произведение принять:<br>\n",
    "а) произведение длин векторов;<br>"
   ]
  },
  {
   "cell_type": "code",
   "execution_count": null,
   "metadata": {},
   "outputs": [],
   "source": [
    "'''\n",
    "1. проиведение длин не изменится от перемены мест множителей\n",
    "2. при умножении на скаляр одного вектора или умножении уже имеющегося произведения - результат не меняется\n",
    "3. замена в действии одного вектора, суммой его составляющих, даст сумму проезведений составляющих на второй вектор\n",
    "4. длина не может быть меньше 0, поэтому и четвертое условие выполняется\n",
    "\n",
    "в полученном пространстве будут справедливы все 4 аксиомы\n",
    "соответственно - пространство является Евклидовым"
   ]
  },
  {
   "cell_type": "markdown",
   "metadata": {},
   "source": [
    "б) утроенное обычное скалярное произведение векторов?   "
   ]
  },
  {
   "cell_type": "code",
   "execution_count": null,
   "metadata": {},
   "outputs": [],
   "source": [
    "'''\n",
    "также выполнятся все четыре аксиомы"
   ]
  },
  {
   "cell_type": "markdown",
   "metadata": {},
   "source": [
    "__2.4.__ Какие из нижеперечисленных векторов образуют ортонормированный базис в линейном пространстве $\\mathbb{R}^{3}$:<br>\n",
    "а) $(1,0,0),(0,0,1);$ <br>\n",
    "б) $(1/\\sqrt{2},-1/\\sqrt{2},0),(1/\\sqrt{2},1/\\sqrt{2},0), (0,0,1);$<br>\n",
    "в) $(1/2, -1/2, 0), (0, 1/2, 1/2), (0,0,1);$<br>\n",
    "г) $(1,0,0),(0,1,0),(0,0,1)?$ "
   ]
  },
  {
   "cell_type": "code",
   "execution_count": 22,
   "metadata": {},
   "outputs": [],
   "source": [
    "a1, a2 = np.array([1,0,0]), np.array([0,0,1])\n",
    "b1, b2, b3 = np.array([1/np.sqrt(2),-1/np.sqrt(2),0]), np.array([1/np.sqrt(2),1/np.sqrt(2),0]), np.array([0,0,1])\n",
    "c1, c2, c3 = np.array([1/2,-1/2,0]), np.array([0,1/2,1/2]), np.array([0,0,1])\n",
    "d1, d2, d3 = np.array([1,0,0]), np.array([0,1,0]), np.array([0,0,1])"
   ]
  },
  {
   "cell_type": "code",
   "execution_count": 31,
   "metadata": {},
   "outputs": [],
   "source": [
    "def checki_three(a, b, c):      \n",
    "    if np.dot(a, b) == np.dot(c, b) == np.dot(a, c) == 0 and norm(a) == norm(b) == norm(c):\n",
    "        print('Ортонормированный базис')\n",
    "        return\n",
    "    else:\n",
    "        print('Не ортонормированный базис')\n",
    "        \n",
    "def checki_two(a, b):      \n",
    "    if np.dot(a, b) == 0 and norm(a) == norm(b):\n",
    "        print('Ортонормированный базис')\n",
    "        return\n",
    "    else:\n",
    "        print('Не ортонормированный базис')"
   ]
  },
  {
   "cell_type": "code",
   "execution_count": 33,
   "metadata": {},
   "outputs": [
    {
     "name": "stdout",
     "output_type": "stream",
     "text": [
      "Ортонормированный базис\n",
      "Не ортонормированный базис\n",
      "Не ортонормированный базис\n",
      "Ортонормированный базис\n"
     ]
    }
   ],
   "source": [
    "checki_two(a1, a2)\n",
    "checki_three(b1, b2, b3)\n",
    "checki_three(c1, c2, c3)\n",
    "checki_three(d1, d2, d3)"
   ]
  },
  {
   "cell_type": "code",
   "execution_count": null,
   "metadata": {},
   "outputs": [],
   "source": []
  }
 ],
 "metadata": {
  "kernelspec": {
   "display_name": "Python 3",
   "language": "python",
   "name": "python3"
  },
  "language_info": {
   "codemirror_mode": {
    "name": "ipython",
    "version": 3
   },
   "file_extension": ".py",
   "mimetype": "text/x-python",
   "name": "python",
   "nbconvert_exporter": "python",
   "pygments_lexer": "ipython3",
   "version": "3.7.6"
  }
 },
 "nbformat": 4,
 "nbformat_minor": 4
}
